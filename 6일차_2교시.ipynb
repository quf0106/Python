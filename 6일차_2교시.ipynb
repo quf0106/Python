{
  "nbformat": 4,
  "nbformat_minor": 0,
  "metadata": {
    "colab": {
      "name": "6일차_2교시.ipynb",
      "provenance": [],
      "authorship_tag": "ABX9TyPx9DQKDEpw4pMlIA+zDzPb",
      "include_colab_link": true
    },
    "kernelspec": {
      "name": "python3",
      "display_name": "Python 3"
    }
  },
  "cells": [
    {
      "cell_type": "markdown",
      "metadata": {
        "id": "view-in-github",
        "colab_type": "text"
      },
      "source": [
        "<a href=\"https://colab.research.google.com/github/quf0106/Python/blob/master/6%EC%9D%BC%EC%B0%A8_2%EA%B5%90%EC%8B%9C.ipynb\" target=\"_parent\"><img src=\"https://colab.research.google.com/assets/colab-badge.svg\" alt=\"Open In Colab\"/></a>"
      ]
    },
    {
      "cell_type": "code",
      "metadata": {
        "id": "hfa-qT0dEJ31",
        "colab_type": "code",
        "colab": {
          "base_uri": "https://localhost:8080/",
          "height": 35
        },
        "outputId": "ee8962d6-d86f-4f4e-a533-483b2fa63050"
      },
      "source": [
        "import sys\n",
        "sys.version_info"
      ],
      "execution_count": 1,
      "outputs": [
        {
          "output_type": "execute_result",
          "data": {
            "text/plain": [
              "sys.version_info(major=3, minor=6, micro=9, releaselevel='final', serial=0)"
            ]
          },
          "metadata": {
            "tags": []
          },
          "execution_count": 1
        }
      ]
    },
    {
      "cell_type": "code",
      "metadata": {
        "id": "ff_FIITEFHXY",
        "colab_type": "code",
        "colab": {
          "base_uri": "https://localhost:8080/",
          "height": 395
        },
        "outputId": "4fa9f8df-43af-41e7-a7c8-2878cc6bc387"
      },
      "source": [
        "import this"
      ],
      "execution_count": 2,
      "outputs": [
        {
          "output_type": "stream",
          "text": [
            "The Zen of Python, by Tim Peters\n",
            "\n",
            "Beautiful is better than ugly.\n",
            "Explicit is better than implicit.\n",
            "Simple is better than complex.\n",
            "Complex is better than complicated.\n",
            "Flat is better than nested.\n",
            "Sparse is better than dense.\n",
            "Readability counts.\n",
            "Special cases aren't special enough to break the rules.\n",
            "Although practicality beats purity.\n",
            "Errors should never pass silently.\n",
            "Unless explicitly silenced.\n",
            "In the face of ambiguity, refuse the temptation to guess.\n",
            "There should be one-- and preferably only one --obvious way to do it.\n",
            "Although that way may not be obvious at first unless you're Dutch.\n",
            "Now is better than never.\n",
            "Although never is often better than *right* now.\n",
            "If the implementation is hard to explain, it's a bad idea.\n",
            "If the implementation is easy to explain, it may be a good idea.\n",
            "Namespaces are one honking great idea -- let's do more of those!\n"
          ],
          "name": "stdout"
        }
      ]
    },
    {
      "cell_type": "markdown",
      "metadata": {
        "id": "1gAO6VMbFSwa",
        "colab_type": "text"
      },
      "source": [
        "# 1. Python boolean"
      ]
    },
    {
      "cell_type": "code",
      "metadata": {
        "id": "M7W0ShxtFcKy",
        "colab_type": "code",
        "colab": {
          "base_uri": "https://localhost:8080/",
          "height": 35
        },
        "outputId": "1e11d3a3-b214-4170-8fee-61a67bd61647"
      },
      "source": [
        "True == False"
      ],
      "execution_count": 9,
      "outputs": [
        {
          "output_type": "execute_result",
          "data": {
            "text/plain": [
              "False"
            ]
          },
          "metadata": {
            "tags": []
          },
          "execution_count": 9
        }
      ]
    },
    {
      "cell_type": "code",
      "metadata": {
        "id": "Ae85x693Feal",
        "colab_type": "code",
        "colab": {
          "base_uri": "https://localhost:8080/",
          "height": 35
        },
        "outputId": "fad6d657-888d-4937-8300-bd3b01e70d31"
      },
      "source": [
        "True != 0"
      ],
      "execution_count": 8,
      "outputs": [
        {
          "output_type": "execute_result",
          "data": {
            "text/plain": [
              "True"
            ]
          },
          "metadata": {
            "tags": []
          },
          "execution_count": 8
        }
      ]
    },
    {
      "cell_type": "code",
      "metadata": {
        "id": "4nzp9-akFjkc",
        "colab_type": "code",
        "colab": {
          "base_uri": "https://localhost:8080/",
          "height": 35
        },
        "outputId": "456a9145-ab43-44b8-a846-aa05eb3ba991"
      },
      "source": [
        "False == 0"
      ],
      "execution_count": 11,
      "outputs": [
        {
          "output_type": "execute_result",
          "data": {
            "text/plain": [
              "True"
            ]
          },
          "metadata": {
            "tags": []
          },
          "execution_count": 11
        }
      ]
    },
    {
      "cell_type": "code",
      "metadata": {
        "id": "fmKlMY-pF7bv",
        "colab_type": "code",
        "colab": {
          "base_uri": "https://localhost:8080/",
          "height": 35
        },
        "outputId": "e5245099-c7fd-4ce2-aece-767a875d9060"
      },
      "source": [
        "True and False"
      ],
      "execution_count": 13,
      "outputs": [
        {
          "output_type": "execute_result",
          "data": {
            "text/plain": [
              "False"
            ]
          },
          "metadata": {
            "tags": []
          },
          "execution_count": 13
        }
      ]
    },
    {
      "cell_type": "code",
      "metadata": {
        "id": "iVB5Dbp5GHlE",
        "colab_type": "code",
        "colab": {
          "base_uri": "https://localhost:8080/",
          "height": 35
        },
        "outputId": "19d0c184-79b1-445c-cb39-6b2f1db70ba1"
      },
      "source": [
        "1 == '1'"
      ],
      "execution_count": 14,
      "outputs": [
        {
          "output_type": "execute_result",
          "data": {
            "text/plain": [
              "False"
            ]
          },
          "metadata": {
            "tags": []
          },
          "execution_count": 14
        }
      ]
    },
    {
      "cell_type": "markdown",
      "metadata": {
        "id": "2RTDIukfGLpt",
        "colab_type": "text"
      },
      "source": [
        "# 2. 문자열"
      ]
    },
    {
      "cell_type": "code",
      "metadata": {
        "id": "lgMXRQ8qGOdE",
        "colab_type": "code",
        "colab": {
          "base_uri": "https://localhost:8080/",
          "height": 35
        },
        "outputId": "da5ddf24-3ac8-4c79-9547-2df35ebae68a"
      },
      "source": [
        "eng = 'Korea COVID 19'\n",
        "eng"
      ],
      "execution_count": 16,
      "outputs": [
        {
          "output_type": "execute_result",
          "data": {
            "text/plain": [
              "'Korea COVID 19'"
            ]
          },
          "metadata": {
            "tags": []
          },
          "execution_count": 16
        }
      ]
    },
    {
      "cell_type": "code",
      "metadata": {
        "id": "M0j9eHF5GYcV",
        "colab_type": "code",
        "colab": {
          "base_uri": "https://localhost:8080/",
          "height": 35
        },
        "outputId": "b92a0318-aff7-4440-b189-b5fc8fe6990f"
      },
      "source": [
        "eng.lower()"
      ],
      "execution_count": 18,
      "outputs": [
        {
          "output_type": "execute_result",
          "data": {
            "text/plain": [
              "'korea covid 19'"
            ]
          },
          "metadata": {
            "tags": []
          },
          "execution_count": 18
        }
      ]
    },
    {
      "cell_type": "code",
      "metadata": {
        "id": "OaF1at5ZGdJ-",
        "colab_type": "code",
        "colab": {
          "base_uri": "https://localhost:8080/",
          "height": 35
        },
        "outputId": "09e1e6e4-86ea-4e43-e7c7-97d4cbb58140"
      },
      "source": [
        "eng.upper()"
      ],
      "execution_count": 19,
      "outputs": [
        {
          "output_type": "execute_result",
          "data": {
            "text/plain": [
              "'KOREA COVID 19'"
            ]
          },
          "metadata": {
            "tags": []
          },
          "execution_count": 19
        }
      ]
    },
    {
      "cell_type": "markdown",
      "metadata": {
        "id": "8tWWBXuvGkPI",
        "colab_type": "text"
      },
      "source": [
        "# 3. Lists"
      ]
    },
    {
      "cell_type": "code",
      "metadata": {
        "id": "mJy4YFiGGnj-",
        "colab_type": "code",
        "colab": {}
      },
      "source": [
        "data = []"
      ],
      "execution_count": 0,
      "outputs": []
    },
    {
      "cell_type": "code",
      "metadata": {
        "id": "miLBrpC5GtVl",
        "colab_type": "code",
        "colab": {}
      },
      "source": [
        "data.append('java')\n",
        "data.append('python')\n",
        "data.append('c')"
      ],
      "execution_count": 0,
      "outputs": []
    },
    {
      "cell_type": "code",
      "metadata": {
        "id": "BJcWAgt8G319",
        "colab_type": "code",
        "colab": {
          "base_uri": "https://localhost:8080/",
          "height": 35
        },
        "outputId": "a5782aec-a2c2-4170-9be0-79b76118faa9"
      },
      "source": [
        "data"
      ],
      "execution_count": 27,
      "outputs": [
        {
          "output_type": "execute_result",
          "data": {
            "text/plain": [
              "['java', 'python', 'c', 'java', 'python', 'c']"
            ]
          },
          "metadata": {
            "tags": []
          },
          "execution_count": 27
        }
      ]
    },
    {
      "cell_type": "code",
      "metadata": {
        "id": "8wlXKyY1HKC1",
        "colab_type": "code",
        "colab": {
          "base_uri": "https://localhost:8080/",
          "height": 35
        },
        "outputId": "8e924208-5141-4b3d-c9cc-8e60167b658c"
      },
      "source": [
        "type(data)"
      ],
      "execution_count": 28,
      "outputs": [
        {
          "output_type": "execute_result",
          "data": {
            "text/plain": [
              "list"
            ]
          },
          "metadata": {
            "tags": []
          },
          "execution_count": 28
        }
      ]
    },
    {
      "cell_type": "code",
      "metadata": {
        "id": "5zZkXS5JHLhG",
        "colab_type": "code",
        "colab": {
          "base_uri": "https://localhost:8080/",
          "height": 35
        },
        "outputId": "b785a12f-064b-4bb4-9601-fe1cba180982"
      },
      "source": [
        "data[0], data[-1], data[1:], data[:2]"
      ],
      "execution_count": 33,
      "outputs": [
        {
          "output_type": "execute_result",
          "data": {
            "text/plain": [
              "('java', 'c', ['python', 'c', 'java', 'python', 'c'], ['java', 'python'])"
            ]
          },
          "metadata": {
            "tags": []
          },
          "execution_count": 33
        }
      ]
    },
    {
      "cell_type": "code",
      "metadata": {
        "id": "lBqCD7ojHfGW",
        "colab_type": "code",
        "colab": {
          "base_uri": "https://localhost:8080/",
          "height": 35
        },
        "outputId": "fc7e87ab-195a-4d9c-8487-a9ea4c4defb3"
      },
      "source": [
        "a = [1, 2, 3, 4, 5, 6]\n",
        "a"
      ],
      "execution_count": 35,
      "outputs": [
        {
          "output_type": "execute_result",
          "data": {
            "text/plain": [
              "[1, 2, 3, 4, 5, 6]"
            ]
          },
          "metadata": {
            "tags": []
          },
          "execution_count": 35
        }
      ]
    },
    {
      "cell_type": "code",
      "metadata": {
        "id": "vsqwhj9qHj38",
        "colab_type": "code",
        "colab": {}
      },
      "source": [
        "a.append(10)"
      ],
      "execution_count": 0,
      "outputs": []
    },
    {
      "cell_type": "code",
      "metadata": {
        "id": "MK7cGV4yHnHd",
        "colab_type": "code",
        "colab": {
          "base_uri": "https://localhost:8080/",
          "height": 35
        },
        "outputId": "0443284b-feba-45cf-94d8-3975ee8c926d"
      },
      "source": [
        "a"
      ],
      "execution_count": 38,
      "outputs": [
        {
          "output_type": "execute_result",
          "data": {
            "text/plain": [
              "[1, 2, 3, 4, 5, 6, 10]"
            ]
          },
          "metadata": {
            "tags": []
          },
          "execution_count": 38
        }
      ]
    },
    {
      "cell_type": "code",
      "metadata": {
        "id": "6lV5jZ8oHqw0",
        "colab_type": "code",
        "colab": {
          "base_uri": "https://localhost:8080/",
          "height": 35
        },
        "outputId": "f19a0441-ea83-49ae-f851-8a7ba57916df"
      },
      "source": [
        "a[1] = 8\n",
        "a.sort()\n",
        "a.reverse()\n",
        "a"
      ],
      "execution_count": 43,
      "outputs": [
        {
          "output_type": "execute_result",
          "data": {
            "text/plain": [
              "[10, 8, 8, 6, 5, 4, 1]"
            ]
          },
          "metadata": {
            "tags": []
          },
          "execution_count": 43
        }
      ]
    },
    {
      "cell_type": "markdown",
      "metadata": {
        "id": "7GyezpXKIERh",
        "colab_type": "text"
      },
      "source": [
        "# 4. Tuple()"
      ]
    },
    {
      "cell_type": "code",
      "metadata": {
        "id": "cFnaiIGHIWwv",
        "colab_type": "code",
        "colab": {
          "base_uri": "https://localhost:8080/",
          "height": 35
        },
        "outputId": "a072a5e2-42c6-49aa-851e-81a3bf98414b"
      },
      "source": [
        "b=(1,2,3, '사', '오')\n",
        "c=1,2,3\n",
        "type(b), type(c)"
      ],
      "execution_count": 47,
      "outputs": [
        {
          "output_type": "execute_result",
          "data": {
            "text/plain": [
              "(tuple, tuple)"
            ]
          },
          "metadata": {
            "tags": []
          },
          "execution_count": 47
        }
      ]
    },
    {
      "cell_type": "code",
      "metadata": {
        "id": "YMQCZvBpIH_I",
        "colab_type": "code",
        "colab": {}
      },
      "source": [
        "#b[3] = 4"
      ],
      "execution_count": 0,
      "outputs": []
    },
    {
      "cell_type": "code",
      "metadata": {
        "id": "ILhd4z2DIR-G",
        "colab_type": "code",
        "colab": {
          "base_uri": "https://localhost:8080/",
          "height": 35
        },
        "outputId": "28ed75c5-7417-4b54-e56b-423693b1454d"
      },
      "source": [
        "b[3:], b[1:4]"
      ],
      "execution_count": 50,
      "outputs": [
        {
          "output_type": "execute_result",
          "data": {
            "text/plain": [
              "(('사', '오'), (2, 3, '사'))"
            ]
          },
          "metadata": {
            "tags": []
          },
          "execution_count": 50
        }
      ]
    },
    {
      "cell_type": "markdown",
      "metadata": {
        "id": "8CmNKsHOIxtq",
        "colab_type": "text"
      },
      "source": [
        "# 5. Dictionay{}"
      ]
    },
    {
      "cell_type": "code",
      "metadata": {
        "id": "YNwvjiRUI3zd",
        "colab_type": "code",
        "colab": {}
      },
      "source": [
        "#dic = [key:value]"
      ],
      "execution_count": 0,
      "outputs": []
    },
    {
      "cell_type": "code",
      "metadata": {
        "id": "JWjtzPrhJEU-",
        "colab_type": "code",
        "colab": {
          "base_uri": "https://localhost:8080/",
          "height": 35
        },
        "outputId": "2f73463c-7e02-4d9c-813c-035dd0dd1cbe"
      },
      "source": [
        "dic = {'name1' : '경민', '학번1' : 20103, 'name2' : '경민2', '학번2' :20104}\n",
        "dic"
      ],
      "execution_count": 53,
      "outputs": [
        {
          "output_type": "execute_result",
          "data": {
            "text/plain": [
              "{'name1': '경민', 'name2': '경민2', '학번1': 20103, '학번2': 20104}"
            ]
          },
          "metadata": {
            "tags": []
          },
          "execution_count": 53
        }
      ]
    },
    {
      "cell_type": "code",
      "metadata": {
        "id": "GaTK1CRTJfIG",
        "colab_type": "code",
        "colab": {
          "base_uri": "https://localhost:8080/",
          "height": 35
        },
        "outputId": "0fe66a94-d255-4ed3-f9e3-e0dc89f565d9"
      },
      "source": [
        "dic.get('name1')"
      ],
      "execution_count": 55,
      "outputs": [
        {
          "output_type": "execute_result",
          "data": {
            "text/plain": [
              "'경민'"
            ]
          },
          "metadata": {
            "tags": []
          },
          "execution_count": 55
        }
      ]
    },
    {
      "cell_type": "code",
      "metadata": {
        "id": "it6LNziCJkgU",
        "colab_type": "code",
        "colab": {
          "base_uri": "https://localhost:8080/",
          "height": 35
        },
        "outputId": "c349973d-3c53-40b8-bfc0-d5202ba941ff"
      },
      "source": [
        "dic['name2']"
      ],
      "execution_count": 59,
      "outputs": [
        {
          "output_type": "execute_result",
          "data": {
            "text/plain": [
              "'경민2'"
            ]
          },
          "metadata": {
            "tags": []
          },
          "execution_count": 59
        }
      ]
    },
    {
      "cell_type": "code",
      "metadata": {
        "id": "2NXkbAcOJx8M",
        "colab_type": "code",
        "colab": {
          "base_uri": "https://localhost:8080/",
          "height": 35
        },
        "outputId": "7d2d9228-f81f-4f49-c0c1-609b44bc585e"
      },
      "source": [
        "dic.keys()"
      ],
      "execution_count": 60,
      "outputs": [
        {
          "output_type": "execute_result",
          "data": {
            "text/plain": [
              "dict_keys(['name1', '학번1', 'name2', '학번2'])"
            ]
          },
          "metadata": {
            "tags": []
          },
          "execution_count": 60
        }
      ]
    },
    {
      "cell_type": "code",
      "metadata": {
        "id": "euAHTkG8JzvV",
        "colab_type": "code",
        "colab": {
          "base_uri": "https://localhost:8080/",
          "height": 35
        },
        "outputId": "b72ae243-8a1f-4675-c351-3002631b28e5"
      },
      "source": [
        "dic.values()"
      ],
      "execution_count": 61,
      "outputs": [
        {
          "output_type": "execute_result",
          "data": {
            "text/plain": [
              "dict_values(['경민', 20103, '경민2', 20104])"
            ]
          },
          "metadata": {
            "tags": []
          },
          "execution_count": 61
        }
      ]
    },
    {
      "cell_type": "markdown",
      "metadata": {
        "id": "RJ_pQmalJ7E8",
        "colab_type": "text"
      },
      "source": [
        "# 6. set{}"
      ]
    },
    {
      "cell_type": "code",
      "metadata": {
        "id": "x6UCJcnyJ9oA",
        "colab_type": "code",
        "colab": {}
      },
      "source": [
        "lunch = {'햄버거', '치킨', '라면', '콜라', 10000}\n",
        "dinner = {'피자', '족발', '라면', '콜라', 10000}"
      ],
      "execution_count": 0,
      "outputs": []
    },
    {
      "cell_type": "code",
      "metadata": {
        "id": "Tq7F6-JcKVpK",
        "colab_type": "code",
        "colab": {
          "base_uri": "https://localhost:8080/",
          "height": 35
        },
        "outputId": "29333bb3-ad85-49c4-db52-529e004c2935"
      },
      "source": [
        "lunch & dinner"
      ],
      "execution_count": 64,
      "outputs": [
        {
          "output_type": "execute_result",
          "data": {
            "text/plain": [
              "{10000, '라면', '콜라'}"
            ]
          },
          "metadata": {
            "tags": []
          },
          "execution_count": 64
        }
      ]
    },
    {
      "cell_type": "code",
      "metadata": {
        "id": "5ZoFQRV7KcXF",
        "colab_type": "code",
        "colab": {
          "base_uri": "https://localhost:8080/",
          "height": 35
        },
        "outputId": "77a6315f-2e4b-4a6d-f8ef-fc272f1a7f5f"
      },
      "source": [
        "dinner-lunch"
      ],
      "execution_count": 66,
      "outputs": [
        {
          "output_type": "execute_result",
          "data": {
            "text/plain": [
              "{'족발', '피자'}"
            ]
          },
          "metadata": {
            "tags": []
          },
          "execution_count": 66
        }
      ]
    },
    {
      "cell_type": "code",
      "metadata": {
        "id": "vGkyyu9gKgNl",
        "colab_type": "code",
        "colab": {
          "base_uri": "https://localhost:8080/",
          "height": 35
        },
        "outputId": "a7d715f7-ee6b-420d-ddc0-51e4615b6019"
      },
      "source": [
        "dinner | lunch"
      ],
      "execution_count": 68,
      "outputs": [
        {
          "output_type": "execute_result",
          "data": {
            "text/plain": [
              "{10000, '라면', '족발', '치킨', '콜라', '피자', '햄버거'}"
            ]
          },
          "metadata": {
            "tags": []
          },
          "execution_count": 68
        }
      ]
    }
  ]
}