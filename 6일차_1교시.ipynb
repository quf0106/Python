{
  "nbformat": 4,
  "nbformat_minor": 0,
  "metadata": {
    "colab": {
      "name": "6일차_1교시.ipynb",
      "provenance": [],
      "authorship_tag": "ABX9TyP+/ekNoPcWAYvGDxcNsdjA",
      "include_colab_link": true
    },
    "kernelspec": {
      "name": "python3",
      "display_name": "Python 3"
    }
  },
  "cells": [
    {
      "cell_type": "markdown",
      "metadata": {
        "id": "view-in-github",
        "colab_type": "text"
      },
      "source": [
        "<a href=\"https://colab.research.google.com/github/quf0106/Python/blob/master/6%EC%9D%BC%EC%B0%A8_1%EA%B5%90%EC%8B%9C.ipynb\" target=\"_parent\"><img src=\"https://colab.research.google.com/assets/colab-badge.svg\" alt=\"Open In Colab\"/></a>"
      ]
    },
    {
      "cell_type": "code",
      "metadata": {
        "id": "sWWxua2T-0Hz",
        "colab_type": "code",
        "colab": {
          "base_uri": "https://localhost:8080/",
          "height": 89
        },
        "outputId": "90d27f78-0d46-433e-d916-af37a092fb76"
      },
      "source": [
        "sub = ['국', '영', '수', '정보']\n",
        "for i in range(len(sub)):\n",
        "  print(i+1, '교시', sub[i])"
      ],
      "execution_count": 6,
      "outputs": [
        {
          "output_type": "stream",
          "text": [
            "1 교시 국\n",
            "2 교시 영\n",
            "3 교시 수\n",
            "4 교시 정보\n"
          ],
          "name": "stdout"
        }
      ]
    },
    {
      "cell_type": "code",
      "metadata": {
        "id": "2baXocjS_hcB",
        "colab_type": "code",
        "colab": {
          "base_uri": "https://localhost:8080/",
          "height": 89
        },
        "outputId": "6e853644-6fc2-49c9-8da0-74bef890d6d9"
      },
      "source": [
        "sub = ['국', '영', '수', '정보']\n",
        "for i in range(len(sub)):\n",
        "  if sub[i] == '수':\n",
        "    print(i+1, '교시', sub[i], '해당')\n",
        "  else :\n",
        "    print(i+1, '교시', sub[i], '해당없음')"
      ],
      "execution_count": 12,
      "outputs": [
        {
          "output_type": "stream",
          "text": [
            "1 교시 국 해당없음\n",
            "2 교시 영 해당없음\n",
            "3 교시 수 해당\n",
            "4 교시 정보 해당없음\n"
          ],
          "name": "stdout"
        }
      ]
    },
    {
      "cell_type": "code",
      "metadata": {
        "id": "H9CzbmFIAJYh",
        "colab_type": "code",
        "colab": {
          "base_uri": "https://localhost:8080/",
          "height": 89
        },
        "outputId": "b52f6e86-069b-4b8e-8c1e-52dd43a8ac74"
      },
      "source": [
        "for i, val in enumerate(sub) :\n",
        "  print(i+1, val)"
      ],
      "execution_count": 15,
      "outputs": [
        {
          "output_type": "stream",
          "text": [
            "1 국\n",
            "2 영\n",
            "3 수\n",
            "4 정보\n"
          ],
          "name": "stdout"
        }
      ]
    },
    {
      "cell_type": "code",
      "metadata": {
        "id": "nw-94ytzAmpd",
        "colab_type": "code",
        "colab": {
          "base_uri": "https://localhost:8080/",
          "height": 197
        },
        "outputId": "6c557b6a-b30c-4b7c-d514-f68f92ae0883"
      },
      "source": [
        "for i in range(1, 11) :\n",
        "  if i % 2==0 :\n",
        "    print('파이썬')\n",
        "  else :\n",
        "    print('야~ 나도 파이썬 할 수 있어')"
      ],
      "execution_count": 17,
      "outputs": [
        {
          "output_type": "stream",
          "text": [
            "야~ 나도 파이썬 할 수 있어\n",
            "파이썬\n",
            "야~ 나도 파이썬 할 수 있어\n",
            "파이썬\n",
            "야~ 나도 파이썬 할 수 있어\n",
            "파이썬\n",
            "야~ 나도 파이썬 할 수 있어\n",
            "파이썬\n",
            "야~ 나도 파이썬 할 수 있어\n",
            "파이썬\n"
          ],
          "name": "stdout"
        }
      ]
    }
  ]
}