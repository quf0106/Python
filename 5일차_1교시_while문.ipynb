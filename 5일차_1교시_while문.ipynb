{
  "nbformat": 4,
  "nbformat_minor": 0,
  "metadata": {
    "colab": {
      "name": "5일차_1교시_while문.ipynb",
      "provenance": [],
      "authorship_tag": "ABX9TyOBo7PmoHUWR/vGJ1Jg7tgV",
      "include_colab_link": true
    },
    "kernelspec": {
      "name": "python3",
      "display_name": "Python 3"
    }
  },
  "cells": [
    {
      "cell_type": "markdown",
      "metadata": {
        "id": "view-in-github",
        "colab_type": "text"
      },
      "source": [
        "<a href=\"https://colab.research.google.com/github/quf0106/Python/blob/master/5%EC%9D%BC%EC%B0%A8_1%EA%B5%90%EC%8B%9C_while%EB%AC%B8.ipynb\" target=\"_parent\"><img src=\"https://colab.research.google.com/assets/colab-badge.svg\" alt=\"Open In Colab\"/></a>"
      ]
    },
    {
      "cell_type": "markdown",
      "metadata": {
        "id": "PSMzna_F5cXR",
        "colab_type": "text"
      },
      "source": [
        "# 1. 1. while\n",
        "\n",
        "```\n",
        "# \n",
        "```\n",
        "\n"
      ]
    },
    {
      "cell_type": "code",
      "metadata": {
        "id": "ga_KlQSq5rkN",
        "colab_type": "code",
        "colab": {
          "base_uri": "https://localhost:8080/",
          "height": 35
        },
        "outputId": "fa6c1cf0-747e-4189-bb7a-9edfffd2759b"
      },
      "source": [
        "for i in range(1, 11, 2):\n",
        "  print(i, end=' ')"
      ],
      "execution_count": 9,
      "outputs": [
        {
          "output_type": "stream",
          "text": [
            "1 3 5 7 9 "
          ],
          "name": "stdout"
        }
      ]
    },
    {
      "cell_type": "code",
      "metadata": {
        "id": "qb6ZDlLs6N-_",
        "colab_type": "code",
        "colab": {
          "base_uri": "https://localhost:8080/",
          "height": 35
        },
        "outputId": "943342ca-f731-4268-b5bb-bceaf6ce8612"
      },
      "source": [
        "i=1\n",
        "while(i < 11):\n",
        "  print(i, end=' ')\n",
        "  i+=2"
      ],
      "execution_count": 15,
      "outputs": [
        {
          "output_type": "stream",
          "text": [
            "1 3 5 7 9 "
          ],
          "name": "stdout"
        }
      ]
    },
    {
      "cell_type": "code",
      "metadata": {
        "id": "FPIJD14v6ZFt",
        "colab_type": "code",
        "colab": {
          "base_uri": "https://localhost:8080/",
          "height": 35
        },
        "outputId": "ba9b371e-08a6-4597-8d12-e2069ef55fd3"
      },
      "source": [
        "num=list(range(10, 110, 10))\n",
        "num"
      ],
      "execution_count": 18,
      "outputs": [
        {
          "output_type": "execute_result",
          "data": {
            "text/plain": [
              "[10, 20, 30, 40, 50, 60, 70, 80, 90, 100]"
            ]
          },
          "metadata": {
            "tags": []
          },
          "execution_count": 18
        }
      ]
    },
    {
      "cell_type": "code",
      "metadata": {
        "id": "aj5X17ok7iDV",
        "colab_type": "code",
        "colab": {
          "base_uri": "https://localhost:8080/",
          "height": 35
        },
        "outputId": "92248e86-1284-4f18-97b0-94d75a5c770c"
      },
      "source": [
        "a=0\n",
        "while(a<len(num)):\n",
        "  print(num[a], end=' ')\n",
        "  a+=1"
      ],
      "execution_count": 52,
      "outputs": [
        {
          "output_type": "stream",
          "text": [
            "10 20 30 40 50 60 70 80 90 100 "
          ],
          "name": "stdout"
        }
      ]
    },
    {
      "cell_type": "code",
      "metadata": {
        "id": "879wjCbA7pQ3",
        "colab_type": "code",
        "colab": {
          "base_uri": "https://localhost:8080/",
          "height": 89
        },
        "outputId": "490c1b0d-5b0a-45e3-cb8e-ce5997fefdc9"
      },
      "source": [
        "lunch = ['라면', '햄버거', '김밥', '돈가스', '자장면']\n",
        "while(i<len(lunch)):\n",
        "  print(lunch[i])\n",
        "  i+=1"
      ],
      "execution_count": 59,
      "outputs": [
        {
          "output_type": "stream",
          "text": [
            "햄버거\n",
            "김밥\n",
            "돈가스\n",
            "자장면\n"
          ],
          "name": "stdout"
        }
      ]
    },
    {
      "cell_type": "code",
      "metadata": {
        "id": "tNs7KdvH8X8B",
        "colab_type": "code",
        "colab": {
          "base_uri": "https://localhost:8080/",
          "height": 35
        },
        "outputId": "8e61307a-3028-457d-90b6-18c84cf31468"
      },
      "source": [
        "lunch.sort()\n",
        "lunch"
      ],
      "execution_count": 36,
      "outputs": [
        {
          "output_type": "execute_result",
          "data": {
            "text/plain": [
              "['김밥', '돈가스', '라면', '자장면', '햄버거']"
            ]
          },
          "metadata": {
            "tags": []
          },
          "execution_count": 36
        }
      ]
    },
    {
      "cell_type": "code",
      "metadata": {
        "id": "qOdalt0f8cYt",
        "colab_type": "code",
        "colab": {
          "base_uri": "https://localhost:8080/",
          "height": 35
        },
        "outputId": "fe8408a3-672c-4a12-9f26-9d77d6b1f776"
      },
      "source": [
        "lunch.reverse()\n",
        "lunch"
      ],
      "execution_count": 38,
      "outputs": [
        {
          "output_type": "execute_result",
          "data": {
            "text/plain": [
              "['김밥', '돈가스', '라면', '자장면', '햄버거']"
            ]
          },
          "metadata": {
            "tags": []
          },
          "execution_count": 38
        }
      ]
    },
    {
      "cell_type": "code",
      "metadata": {
        "id": "Tzkx_elu8h4f",
        "colab_type": "code",
        "colab": {
          "base_uri": "https://localhost:8080/",
          "height": 35
        },
        "outputId": "feef43da-cd01-4328-e676-5d391d70a24d"
      },
      "source": [
        "import random as r\n",
        "r.shuffle(lunch)\n",
        "lunch"
      ],
      "execution_count": 44,
      "outputs": [
        {
          "output_type": "execute_result",
          "data": {
            "text/plain": [
              "['돈가스', '자장면', '라면', '김밥', '햄버거']"
            ]
          },
          "metadata": {
            "tags": []
          },
          "execution_count": 44
        }
      ]
    },
    {
      "cell_type": "code",
      "metadata": {
        "id": "cKGASWn09JPp",
        "colab_type": "code",
        "colab": {
          "base_uri": "https://localhost:8080/",
          "height": 35
        },
        "outputId": "38c9d533-f63a-4399-b95d-9a715043de79"
      },
      "source": [
        "i=1\n",
        "while(i<10):\n",
        "  print(i, end=' ')\n",
        "  i+=1\n",
        "  if(i<7):\n",
        "    continue\n",
        "  break"
      ],
      "execution_count": 46,
      "outputs": [
        {
          "output_type": "stream",
          "text": [
            "1 2 3 4 5 6 "
          ],
          "name": "stdout"
        }
      ]
    },
    {
      "cell_type": "code",
      "metadata": {
        "id": "dQGkylmQ9oq4",
        "colab_type": "code",
        "colab": {
          "base_uri": "https://localhost:8080/",
          "height": 71
        },
        "outputId": "6c27b759-2fea-4c06-f43d-9d1e87d94e1c"
      },
      "source": [
        "#문제 1\n",
        "num=list(range(10, 110, 10))\n",
        "i=0\n",
        "sum=0\n",
        "avr=0\n",
        "while(i<len(num)):\n",
        "  if num[i]==50:\n",
        "    i+=1\n",
        "    continue\n",
        "  if num[i]>80:\n",
        "    break\n",
        "  print(num[i], end='/')\n",
        "  sum+=int(num[i])\n",
        "  i+=1\n",
        "avr=sum/i\n",
        "print('\\n합계 ', sum)\n",
        "print('평균', avr)"
      ],
      "execution_count": 81,
      "outputs": [
        {
          "output_type": "stream",
          "text": [
            "10/20/30/40/60/70/80/\n",
            "합계  310\n",
            "평균 38.75\n"
          ],
          "name": "stdout"
        }
      ]
    },
    {
      "cell_type": "code",
      "metadata": {
        "id": "2ynOXrv_HiHi",
        "colab_type": "code",
        "colab": {
          "base_uri": "https://localhost:8080/",
          "height": 107
        },
        "outputId": "c6f827f7-160c-48de-ae36-b551d339f22f"
      },
      "source": [
        "#문제 2\n",
        "while(a) :\n",
        "  a = input('입력 :')\n",
        "  if a=='exit':\n",
        "    break\n",
        "  print(a)"
      ],
      "execution_count": 92,
      "outputs": [
        {
          "output_type": "stream",
          "text": [
            "입력 :2\n",
            "2\n",
            "입력 :3\n",
            "3\n",
            "입력 :exit\n"
          ],
          "name": "stdout"
        }
      ]
    }
  ]
}