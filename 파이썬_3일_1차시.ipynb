{
  "nbformat": 4,
  "nbformat_minor": 0,
  "metadata": {
    "colab": {
      "name": "파이썬_3일_1차시.ipynb",
      "provenance": [],
      "collapsed_sections": [],
      "authorship_tag": "ABX9TyNSveCNtk8LT412zO2XtRu9",
      "include_colab_link": true
    },
    "kernelspec": {
      "name": "python3",
      "display_name": "Python 3"
    }
  },
  "cells": [
    {
      "cell_type": "markdown",
      "metadata": {
        "id": "view-in-github",
        "colab_type": "text"
      },
      "source": [
        "<a href=\"https://colab.research.google.com/github/quf0106/Python/blob/master/%ED%8C%8C%EC%9D%B4%EC%8D%AC_3%EC%9D%BC_1%EC%B0%A8%EC%8B%9C.ipynb\" target=\"_parent\"><img src=\"https://colab.research.google.com/assets/colab-badge.svg\" alt=\"Open In Colab\"/></a>"
      ]
    },
    {
      "cell_type": "markdown",
      "metadata": {
        "id": "8zf_cs8c4Aio",
        "colab_type": "text"
      },
      "source": [
        "**Data Type_Dictionary**\n",
        "\n",
        "```\n",
        "# dic = {1 : '왕기', 2 : '정우', 3 : 30103}\n",
        "```\n",
        "\n"
      ]
    },
    {
      "cell_type": "code",
      "metadata": {
        "id": "PEUOmcN44ox0",
        "colab_type": "code",
        "colab": {}
      },
      "source": [
        "dic = {'아싸' : '왕기', 2 : '정우', 3 : 30103}"
      ],
      "execution_count": 0,
      "outputs": []
    },
    {
      "cell_type": "code",
      "metadata": {
        "id": "BSpVeYV64wms",
        "colab_type": "code",
        "colab": {
          "base_uri": "https://localhost:8080/",
          "height": 35
        },
        "outputId": "4b60da6d-9f48-4f8b-977e-d16d684abdc1"
      },
      "source": [
        "dic['아싸'], dic[2], dic[3]"
      ],
      "execution_count": 23,
      "outputs": [
        {
          "output_type": "execute_result",
          "data": {
            "text/plain": [
              "('왕기', '정우', 30103)"
            ]
          },
          "metadata": {
            "tags": []
          },
          "execution_count": 23
        }
      ]
    },
    {
      "cell_type": "code",
      "metadata": {
        "id": "o1jNv-G37C2r",
        "colab_type": "code",
        "colab": {
          "base_uri": "https://localhost:8080/",
          "height": 35
        },
        "outputId": "c312f138-b65f-4fa9-8346-b434dc0b898b"
      },
      "source": [
        "dic.get('아싸')"
      ],
      "execution_count": 25,
      "outputs": [
        {
          "output_type": "execute_result",
          "data": {
            "text/plain": [
              "'왕기'"
            ]
          },
          "metadata": {
            "tags": []
          },
          "execution_count": 25
        }
      ]
    },
    {
      "cell_type": "code",
      "metadata": {
        "id": "r7MMJ3Vx7Paw",
        "colab_type": "code",
        "colab": {
          "base_uri": "https://localhost:8080/",
          "height": 35
        },
        "outputId": "5e60298d-dc00-483b-c7be-01c026c65155"
      },
      "source": [
        "dic.values()"
      ],
      "execution_count": 27,
      "outputs": [
        {
          "output_type": "execute_result",
          "data": {
            "text/plain": [
              "dict_values(['왕기', '정우', 30103])"
            ]
          },
          "metadata": {
            "tags": []
          },
          "execution_count": 27
        }
      ]
    },
    {
      "cell_type": "code",
      "metadata": {
        "id": "4kn_wYYP7dyT",
        "colab_type": "code",
        "colab": {
          "base_uri": "https://localhost:8080/",
          "height": 35
        },
        "outputId": "80282d0c-bb09-4541-fb81-41052f439328"
      },
      "source": [
        "dic.items()"
      ],
      "execution_count": 29,
      "outputs": [
        {
          "output_type": "execute_result",
          "data": {
            "text/plain": [
              "dict_items([('아싸', '왕기'), (2, '정우'), (3, 30103)])"
            ]
          },
          "metadata": {
            "tags": []
          },
          "execution_count": 29
        }
      ]
    },
    {
      "cell_type": "code",
      "metadata": {
        "id": "i59tMahJ7iYK",
        "colab_type": "code",
        "colab": {
          "base_uri": "https://localhost:8080/",
          "height": 35
        },
        "outputId": "66240031-66a8-4f37-e32b-18e73264cf5b"
      },
      "source": [
        "dic.keys()"
      ],
      "execution_count": 30,
      "outputs": [
        {
          "output_type": "execute_result",
          "data": {
            "text/plain": [
              "dict_keys(['아싸', 2, 3])"
            ]
          },
          "metadata": {
            "tags": []
          },
          "execution_count": 30
        }
      ]
    },
    {
      "cell_type": "code",
      "metadata": {
        "id": "y5qyrwxP5zOR",
        "colab_type": "code",
        "colab": {
          "base_uri": "https://localhost:8080/",
          "height": 35
        },
        "outputId": "4d6b52cc-465d-4554-b970-1d3d8e650047"
      },
      "source": [
        "a = '인천정보산업고등학교'\n",
        "type(a)"
      ],
      "execution_count": 10,
      "outputs": [
        {
          "output_type": "execute_result",
          "data": {
            "text/plain": [
              "str"
            ]
          },
          "metadata": {
            "tags": []
          },
          "execution_count": 10
        }
      ]
    },
    {
      "cell_type": "code",
      "metadata": {
        "id": "3m8OITOH58OL",
        "colab_type": "code",
        "colab": {
          "base_uri": "https://localhost:8080/",
          "height": 35
        },
        "outputId": "866200a5-1e0a-4279-e829-1df14cacb845"
      },
      "source": [
        "type(dic)"
      ],
      "execution_count": 12,
      "outputs": [
        {
          "output_type": "execute_result",
          "data": {
            "text/plain": [
              "dict"
            ]
          },
          "metadata": {
            "tags": []
          },
          "execution_count": 12
        }
      ]
    },
    {
      "cell_type": "code",
      "metadata": {
        "id": "x94lguFs6CTp",
        "colab_type": "code",
        "colab": {
          "base_uri": "https://localhost:8080/",
          "height": 35
        },
        "outputId": "f34d6c14-ea32-4241-f6a4-67f0a837dd83"
      },
      "source": [
        "b=[1, 2, 3, 4, 5]\n",
        "type(b)\n",
        "b[0] = 8\n",
        "b"
      ],
      "execution_count": 17,
      "outputs": [
        {
          "output_type": "execute_result",
          "data": {
            "text/plain": [
              "[8, 2, 3, 4, 5]"
            ]
          },
          "metadata": {
            "tags": []
          },
          "execution_count": 17
        }
      ]
    },
    {
      "cell_type": "code",
      "metadata": {
        "id": "CyJufCGj6d5p",
        "colab_type": "code",
        "colab": {
          "base_uri": "https://localhost:8080/",
          "height": 226
        },
        "outputId": "3f2968d3-37ca-4790-df9e-dfc601c9d1b9"
      },
      "source": [
        "c = 1, 2, 3, 4, 5\n",
        "type(c)\n",
        "c[0] = 8\n",
        "c"
      ],
      "execution_count": 22,
      "outputs": [
        {
          "output_type": "error",
          "ename": "TypeError",
          "evalue": "ignored",
          "traceback": [
            "\u001b[0;31m---------------------------------------------------------------------------\u001b[0m",
            "\u001b[0;31mTypeError\u001b[0m                                 Traceback (most recent call last)",
            "\u001b[0;32m<ipython-input-22-e36633806948>\u001b[0m in \u001b[0;36m<module>\u001b[0;34m()\u001b[0m\n\u001b[1;32m      1\u001b[0m \u001b[0mc\u001b[0m \u001b[0;34m=\u001b[0m \u001b[0;36m1\u001b[0m\u001b[0;34m,\u001b[0m \u001b[0;36m2\u001b[0m\u001b[0;34m,\u001b[0m \u001b[0;36m3\u001b[0m\u001b[0;34m,\u001b[0m \u001b[0;36m4\u001b[0m\u001b[0;34m,\u001b[0m \u001b[0;36m5\u001b[0m\u001b[0;34m\u001b[0m\u001b[0;34m\u001b[0m\u001b[0m\n\u001b[1;32m      2\u001b[0m \u001b[0mtype\u001b[0m\u001b[0;34m(\u001b[0m\u001b[0mc\u001b[0m\u001b[0;34m)\u001b[0m\u001b[0;34m\u001b[0m\u001b[0;34m\u001b[0m\u001b[0m\n\u001b[0;32m----> 3\u001b[0;31m \u001b[0mc\u001b[0m\u001b[0;34m[\u001b[0m\u001b[0;36m0\u001b[0m\u001b[0;34m]\u001b[0m \u001b[0;34m=\u001b[0m \u001b[0;36m8\u001b[0m\u001b[0;34m\u001b[0m\u001b[0;34m\u001b[0m\u001b[0m\n\u001b[0m\u001b[1;32m      4\u001b[0m \u001b[0mc\u001b[0m\u001b[0;34m\u001b[0m\u001b[0;34m\u001b[0m\u001b[0m\n",
            "\u001b[0;31mTypeError\u001b[0m: 'tuple' object does not support item assignment"
          ]
        }
      ]
    },
    {
      "cell_type": "markdown",
      "metadata": {
        "id": "JISWy-pi78xE",
        "colab_type": "text"
      },
      "source": [
        "# **[문제풀이]**"
      ]
    },
    {
      "cell_type": "markdown",
      "metadata": {
        "id": "7QlZ44ZL8-qs",
        "colab_type": "text"
      },
      "source": [
        "**[문제1]**\n",
        "\n",
        "\n",
        "```\n",
        "'*'문자를 100번 출력하시오.\n",
        "```\n",
        "\n"
      ]
    },
    {
      "cell_type": "code",
      "metadata": {
        "id": "kmlJS9ee9OVq",
        "colab_type": "code",
        "colab": {
          "base_uri": "https://localhost:8080/",
          "height": 55
        },
        "outputId": "c59c58ed-4c91-4484-a2c4-d22fa05c36c4"
      },
      "source": [
        "print('* ' * 100)"
      ],
      "execution_count": 31,
      "outputs": [
        {
          "output_type": "stream",
          "text": [
            "* * * * * * * * * * * * * * * * * * * * * * * * * * * * * * * * * * * * * * * * * * * * * * * * * * * * * * * * * * * * * * * * * * * * * * * * * * * * * * * * * * * * * * * * * * * * * * * * * * * * \n"
          ],
          "name": "stdout"
        }
      ]
    },
    {
      "cell_type": "markdown",
      "metadata": {
        "id": "RkPjUC_79G32",
        "colab_type": "text"
      },
      "source": [
        "**[문제2]**\n",
        "\n",
        "\n",
        "```\n",
        "input() 내장 함수를 이용하여 id에 입력을받기.\n",
        "```\n",
        "\n"
      ]
    },
    {
      "cell_type": "code",
      "metadata": {
        "id": "pfxC8Hmt9m2U",
        "colab_type": "code",
        "colab": {
          "base_uri": "https://localhost:8080/",
          "height": 71
        },
        "outputId": "891f731a-67c6-4522-eca1-1fc3f363128d"
      },
      "source": [
        "id = input('id를 입력 >>> ')\n",
        "print(id + '님 안녕하세요')\n",
        "print(id, '님 안녕하세요')"
      ],
      "execution_count": 41,
      "outputs": [
        {
          "output_type": "stream",
          "text": [
            "id를 입력 >>> K\n",
            "K님 안녕하세요\n",
            "K 님 안녕하세요\n"
          ],
          "name": "stdout"
        }
      ]
    },
    {
      "cell_type": "code",
      "metadata": {
        "id": "PQFJ69L6Eqll",
        "colab_type": "code",
        "colab": {
          "base_uri": "https://localhost:8080/",
          "height": 35
        },
        "outputId": "56d28f0c-d90c-4848-e2bf-c78fb1176475"
      },
      "source": [
        "type(id)"
      ],
      "execution_count": 42,
      "outputs": [
        {
          "output_type": "execute_result",
          "data": {
            "text/plain": [
              "str"
            ]
          },
          "metadata": {
            "tags": []
          },
          "execution_count": 42
        }
      ]
    },
    {
      "cell_type": "markdown",
      "metadata": {
        "id": "QZbpq0Z0-opb",
        "colab_type": "text"
      },
      "source": [
        "**[문제3]**\n",
        "\n",
        "\n",
        "```\n",
        "나의 나이를 입력받아(변수 : gap) 환갑이 되는 나이 년도 구해보기 \n",
        "'당신이 환갑이 되는 년도는 2032년 입니다.' 와 같이 출력해보기\n",
        "```\n",
        "\n"
      ]
    },
    {
      "cell_type": "code",
      "metadata": {
        "id": "xMBXtZnXGGJ4",
        "colab_type": "code",
        "colab": {
          "base_uri": "https://localhost:8080/",
          "height": 53
        },
        "outputId": "c993bdbf-b672-4d49-829c-e760e5029506"
      },
      "source": [
        "gap = input('태어난 년도를 입력 >> ')\n",
        "print('당신이 환갑이 되는 년도는', int(gap)+60, '년 입니다')"
      ],
      "execution_count": 54,
      "outputs": [
        {
          "output_type": "stream",
          "text": [
            "태어난 년도를 입력 >> 2002\n",
            "당신이 환갑이 되는 년도는 2062 년 입니다\n"
          ],
          "name": "stdout"
        }
      ]
    },
    {
      "cell_type": "markdown",
      "metadata": {
        "id": "2V_akhPhFW4-",
        "colab_type": "text"
      },
      "source": [
        "**[문제4]**\n",
        "\n",
        "두개의 숫자를 입력  **, %, /, //\n",
        "```\n",
        "#\n",
        "a, b = input('두개의 숫자 입력').split()\n",
        "```\n",
        "\n"
      ]
    },
    {
      "cell_type": "code",
      "metadata": {
        "id": "K9e19gKlFy32",
        "colab_type": "code",
        "colab": {
          "base_uri": "https://localhost:8080/",
          "height": 125
        },
        "outputId": "ea111760-093e-4bbb-ad27-735318cf91cd"
      },
      "source": [
        "a = input('두개의 숫자 입력').split()\n",
        "b = int(a[0])\n",
        "c = int(a[1])\n",
        "print(b, c)\n",
        "print(b**c)\n",
        "print(b%c)\n",
        "print(b/c)\n",
        "print(b//c)"
      ],
      "execution_count": 57,
      "outputs": [
        {
          "output_type": "stream",
          "text": [
            "두개의 숫자 입력2 3\n",
            "2 3\n",
            "8\n",
            "2\n",
            "0.6666666666666666\n",
            "0\n"
          ],
          "name": "stdout"
        }
      ]
    }
  ]
}