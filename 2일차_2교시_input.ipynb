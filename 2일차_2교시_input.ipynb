{
  "nbformat": 4,
  "nbformat_minor": 0,
  "metadata": {
    "colab": {
      "name": "2일차_2교시_input.ipynb",
      "provenance": [],
      "authorship_tag": "ABX9TyPr9vAY5U8a6+j/0Uf3FKCT",
      "include_colab_link": true
    },
    "kernelspec": {
      "name": "python3",
      "display_name": "Python 3"
    }
  },
  "cells": [
    {
      "cell_type": "markdown",
      "metadata": {
        "id": "view-in-github",
        "colab_type": "text"
      },
      "source": [
        "<a href=\"https://colab.research.google.com/github/quf0106/Python/blob/master/2%EC%9D%BC%EC%B0%A8_2%EA%B5%90%EC%8B%9C_input.ipynb\" target=\"_parent\"><img src=\"https://colab.research.google.com/assets/colab-badge.svg\" alt=\"Open In Colab\"/></a>"
      ]
    },
    {
      "cell_type": "code",
      "metadata": {
        "id": "oHNvxaB1Du33",
        "colab_type": "code",
        "colab": {
          "base_uri": "https://localhost:8080/",
          "height": 53
        },
        "outputId": "fe6ea8e6-1755-4bf3-9f08-c03306747ed2"
      },
      "source": [
        "a = input('당신의 이름은 >>> ')\n",
        "a"
      ],
      "execution_count": 5,
      "outputs": [
        {
          "output_type": "stream",
          "text": [
            "당신의 이름은 >>> 11\n"
          ],
          "name": "stdout"
        },
        {
          "output_type": "execute_result",
          "data": {
            "text/plain": [
              "'11'"
            ]
          },
          "metadata": {
            "tags": []
          },
          "execution_count": 5
        }
      ]
    },
    {
      "cell_type": "code",
      "metadata": {
        "id": "vOsmMzoaEquo",
        "colab_type": "code",
        "colab": {
          "base_uri": "https://localhost:8080/",
          "height": 53
        },
        "outputId": "a8b2f4fe-32c5-48c0-8b45-79dfcb44130b"
      },
      "source": [
        "b = input('당신의 나이는 >>> ')\n",
        "b"
      ],
      "execution_count": 7,
      "outputs": [
        {
          "output_type": "stream",
          "text": [
            "당신의 나이는 >>> 25\n"
          ],
          "name": "stdout"
        },
        {
          "output_type": "execute_result",
          "data": {
            "text/plain": [
              "'25'"
            ]
          },
          "metadata": {
            "tags": []
          },
          "execution_count": 7
        }
      ]
    },
    {
      "cell_type": "code",
      "metadata": {
        "id": "mFw9guqtExQr",
        "colab_type": "code",
        "colab": {
          "base_uri": "https://localhost:8080/",
          "height": 35
        },
        "outputId": "016e7f3f-9ce6-4447-bc22-d78b8ab50a0f"
      },
      "source": [
        "type(b)"
      ],
      "execution_count": 8,
      "outputs": [
        {
          "output_type": "execute_result",
          "data": {
            "text/plain": [
              "str"
            ]
          },
          "metadata": {
            "tags": []
          },
          "execution_count": 8
        }
      ]
    },
    {
      "cell_type": "code",
      "metadata": {
        "id": "9rn1QdzAE0V1",
        "colab_type": "code",
        "colab": {
          "base_uri": "https://localhost:8080/",
          "height": 35
        },
        "outputId": "2f958f19-67a6-4018-db98-f216aabee725"
      },
      "source": [
        "c = int(b)\n",
        "c, type(c)"
      ],
      "execution_count": 10,
      "outputs": [
        {
          "output_type": "execute_result",
          "data": {
            "text/plain": [
              "(25, int)"
            ]
          },
          "metadata": {
            "tags": []
          },
          "execution_count": 10
        }
      ]
    },
    {
      "cell_type": "code",
      "metadata": {
        "id": "_qmY-isUFKMk",
        "colab_type": "code",
        "colab": {
          "base_uri": "https://localhost:8080/",
          "height": 71
        },
        "outputId": "7be1f6fa-89c1-46d6-e3b2-643f440e9cfa"
      },
      "source": [
        "year = int(input('출생년도를 입력 >>> '))\n",
        "print('당신은 ', year, '년에 태어났군요')\n",
        "print('당신의 나이는 ', 2020-year+1, '세 입니다')"
      ],
      "execution_count": 15,
      "outputs": [
        {
          "output_type": "stream",
          "text": [
            "출생년도를 입력 >>> 2002\n",
            "당신은  2002 년에 태어났군요\n",
            "당신의 나이는  19 세 입니다\n"
          ],
          "name": "stdout"
        }
      ]
    },
    {
      "cell_type": "markdown",
      "metadata": {
        "id": "aSu2EqB8Gw0z",
        "colab_type": "text"
      },
      "source": [
        "**For mat** 서식지정자"
      ]
    },
    {
      "cell_type": "code",
      "metadata": {
        "id": "kIGHb4cEG4XO",
        "colab_type": "code",
        "colab": {
          "base_uri": "https://localhost:8080/",
          "height": 35
        },
        "outputId": "fc80f5d7-d3be-4122-90ab-b063d2ad8b67"
      },
      "source": [
        "s = 'a is {}'\n",
        "s.format('apple')"
      ],
      "execution_count": 19,
      "outputs": [
        {
          "output_type": "execute_result",
          "data": {
            "text/plain": [
              "'a is apple'"
            ]
          },
          "metadata": {
            "tags": []
          },
          "execution_count": 19
        }
      ]
    },
    {
      "cell_type": "code",
      "metadata": {
        "id": "YMsv8fCmHSFd",
        "colab_type": "code",
        "colab": {
          "base_uri": "https://localhost:8080/",
          "height": 53
        },
        "outputId": "d5e8532a-a135-450e-f95a-c44439bb4891"
      },
      "source": [
        "a= '%s %d 개 가격은 %.2f 달러'\n",
        "b = a %('햄버거', 2, 4.0*2)\n",
        "print(a)\n",
        "print(b)"
      ],
      "execution_count": 23,
      "outputs": [
        {
          "output_type": "stream",
          "text": [
            "%s %d 개 가격은 %.2f 달러\n",
            "햄버거 2 개 가격은 8.00 달러\n"
          ],
          "name": "stdout"
        }
      ]
    },
    {
      "cell_type": "code",
      "metadata": {
        "id": "eNHsu7_8ICcn",
        "colab_type": "code",
        "colab": {
          "base_uri": "https://localhost:8080/",
          "height": 53
        },
        "outputId": "3572614e-02b2-4843-d143-3c4e772e5053"
      },
      "source": [
        "# 치킨 2마리 가격은 40000원\n",
        "a= '%s %d 개 가격은 %.2f 원'\n",
        "b = a %('치킨', 2, 20000*2)\n",
        "print(a)\n",
        "print(b)"
      ],
      "execution_count": 28,
      "outputs": [
        {
          "output_type": "stream",
          "text": [
            "%s %d 개 가격은 %.2f 원\n",
            "치킨 2 개 가격은 40000.00 원\n"
          ],
          "name": "stdout"
        }
      ]
    }
  ]
}